{
 "cells": [
  {
   "cell_type": "code",
   "execution_count": 17,
   "id": "00f01230",
   "metadata": {},
   "outputs": [],
   "source": [
    "import glob\n",
    "import os\n",
    "\n",
    "from ficus import FigureManager\n",
    "import pandas as pd\n",
    "import seaborn as sns"
   ]
  },
  {
   "cell_type": "code",
   "execution_count": 3,
   "id": "44057587",
   "metadata": {},
   "outputs": [
    {
     "name": "stdout",
     "output_type": "stream",
     "text": [
      "cdbg-stream\t\t   SAMEA4064425.1.curl.txt  SAMN04126864.2.curl.txt\r\n",
      "SAMEA104703328.1.curl.txt  SAMEA4064425.2.curl.txt  SAMN10520155.1.curl.txt\r\n",
      "SAMEA104703328.2.curl.txt  SAMEA4774291.1.curl.txt  SAMN10520155.2.curl.txt\r\n",
      "SAMEA3176945.1.curl.txt    SAMEA4774291.2.curl.txt  SAMN10537738.1.curl.txt\r\n",
      "SAMEA3176945.2.curl.txt    SAMN04088456.1.curl.txt  SAMN10537738.2.curl.txt\r\n",
      "SAMEA3894957.1.curl.txt    SAMN04088456.2.curl.txt\r\n",
      "SAMEA3894957.2.curl.txt    SAMN04126864.1.curl.txt\r\n"
     ]
    }
   ],
   "source": [
    "!ls ../results/chap1"
   ]
  },
  {
   "cell_type": "code",
   "execution_count": 6,
   "id": "357fc19b",
   "metadata": {},
   "outputs": [],
   "source": [
    "files = sorted(glob.glob('../results/chap1/SAM*.curl.txt'))"
   ]
  },
  {
   "cell_type": "code",
   "execution_count": 15,
   "id": "c9879136",
   "metadata": {},
   "outputs": [],
   "source": [
    "stream_df = []\n",
    "for path in files:\n",
    "    filename = os.path.basename(path)\n",
    "    accession, fragment, _, _ = filename.split('.')\n",
    "    df = pd.read_table(path, delim_whitespace=True, names=['elapsed_s', 'bytes_read'])\n",
    "    df['accession'] = accession\n",
    "    df['fragment'] = fragment\n",
    "    stream_df.append(df)\n",
    "stream_df = pd.concat(stream_df)"
   ]
  },
  {
   "cell_type": "code",
   "execution_count": 16,
   "id": "cd3f24dd",
   "metadata": {},
   "outputs": [
    {
     "data": {
      "text/html": [
       "<div>\n",
       "<style scoped>\n",
       "    .dataframe tbody tr th:only-of-type {\n",
       "        vertical-align: middle;\n",
       "    }\n",
       "\n",
       "    .dataframe tbody tr th {\n",
       "        vertical-align: top;\n",
       "    }\n",
       "\n",
       "    .dataframe thead th {\n",
       "        text-align: right;\n",
       "    }\n",
       "</style>\n",
       "<table border=\"1\" class=\"dataframe\">\n",
       "  <thead>\n",
       "    <tr style=\"text-align: right;\">\n",
       "      <th></th>\n",
       "      <th>elapsed_s</th>\n",
       "      <th>bytes_read</th>\n",
       "      <th>accession</th>\n",
       "      <th>fragment</th>\n",
       "    </tr>\n",
       "  </thead>\n",
       "  <tbody>\n",
       "    <tr>\n",
       "      <th>0</th>\n",
       "      <td>6.6650</td>\n",
       "      <td>81920</td>\n",
       "      <td>SAMEA104703328</td>\n",
       "      <td>1</td>\n",
       "    </tr>\n",
       "    <tr>\n",
       "      <th>1</th>\n",
       "      <td>6.8120</td>\n",
       "      <td>90112</td>\n",
       "      <td>SAMEA104703328</td>\n",
       "      <td>1</td>\n",
       "    </tr>\n",
       "    <tr>\n",
       "      <th>2</th>\n",
       "      <td>7.6658</td>\n",
       "      <td>524288</td>\n",
       "      <td>SAMEA104703328</td>\n",
       "      <td>1</td>\n",
       "    </tr>\n",
       "    <tr>\n",
       "      <th>3</th>\n",
       "      <td>8.6681</td>\n",
       "      <td>1163264</td>\n",
       "      <td>SAMEA104703328</td>\n",
       "      <td>1</td>\n",
       "    </tr>\n",
       "    <tr>\n",
       "      <th>4</th>\n",
       "      <td>9.6757</td>\n",
       "      <td>1777664</td>\n",
       "      <td>SAMEA104703328</td>\n",
       "      <td>1</td>\n",
       "    </tr>\n",
       "    <tr>\n",
       "      <th>...</th>\n",
       "      <td>...</td>\n",
       "      <td>...</td>\n",
       "      <td>...</td>\n",
       "      <td>...</td>\n",
       "    </tr>\n",
       "    <tr>\n",
       "      <th>6729</th>\n",
       "      <td>6743.9670</td>\n",
       "      <td>4449329152</td>\n",
       "      <td>SAMN10537738</td>\n",
       "      <td>2</td>\n",
       "    </tr>\n",
       "    <tr>\n",
       "      <th>6730</th>\n",
       "      <td>6744.9688</td>\n",
       "      <td>4450189312</td>\n",
       "      <td>SAMN10537738</td>\n",
       "      <td>2</td>\n",
       "    </tr>\n",
       "    <tr>\n",
       "      <th>6731</th>\n",
       "      <td>6745.9709</td>\n",
       "      <td>4451024896</td>\n",
       "      <td>SAMN10537738</td>\n",
       "      <td>2</td>\n",
       "    </tr>\n",
       "    <tr>\n",
       "      <th>6732</th>\n",
       "      <td>6746.9665</td>\n",
       "      <td>4451852288</td>\n",
       "      <td>SAMN10537738</td>\n",
       "      <td>2</td>\n",
       "    </tr>\n",
       "    <tr>\n",
       "      <th>6733</th>\n",
       "      <td>6747.7525</td>\n",
       "      <td>4452406636</td>\n",
       "      <td>SAMN10537738</td>\n",
       "      <td>2</td>\n",
       "    </tr>\n",
       "  </tbody>\n",
       "</table>\n",
       "<p>44658 rows × 4 columns</p>\n",
       "</div>"
      ],
      "text/plain": [
       "      elapsed_s  bytes_read       accession fragment\n",
       "0        6.6650       81920  SAMEA104703328        1\n",
       "1        6.8120       90112  SAMEA104703328        1\n",
       "2        7.6658      524288  SAMEA104703328        1\n",
       "3        8.6681     1163264  SAMEA104703328        1\n",
       "4        9.6757     1777664  SAMEA104703328        1\n",
       "...         ...         ...             ...      ...\n",
       "6729  6743.9670  4449329152    SAMN10537738        2\n",
       "6730  6744.9688  4450189312    SAMN10537738        2\n",
       "6731  6745.9709  4451024896    SAMN10537738        2\n",
       "6732  6746.9665  4451852288    SAMN10537738        2\n",
       "6733  6747.7525  4452406636    SAMN10537738        2\n",
       "\n",
       "[44658 rows x 4 columns]"
      ]
     },
     "execution_count": 16,
     "metadata": {},
     "output_type": "execute_result"
    }
   ],
   "source": [
    "stream_df"
   ]
  },
  {
   "cell_type": "code",
   "execution_count": null,
   "id": "cc633f32",
   "metadata": {},
   "outputs": [],
   "source": []
  }
 ],
 "metadata": {
  "kernelspec": {
   "display_name": "Python [conda env:dissertation] *",
   "language": "python",
   "name": "conda-env-dissertation-py"
  },
  "language_info": {
   "codemirror_mode": {
    "name": "ipython",
    "version": 3
   },
   "file_extension": ".py",
   "mimetype": "text/x-python",
   "name": "python",
   "nbconvert_exporter": "python",
   "pygments_lexer": "ipython3",
   "version": "3.8.12"
  }
 },
 "nbformat": 4,
 "nbformat_minor": 5
}
